{
 "cells": [
  {
   "cell_type": "code",
   "execution_count": 1,
   "id": "27a09f04-d717-4edc-b4c3-d8b9d26b4e02",
   "metadata": {},
   "outputs": [],
   "source": [
    "#Pleas First run This Cell And Then import your data in The Next Cell\n",
    "def test (X_test, t_test, D = 150): \n",
    "    \n",
    "    # Import libraries:\n",
    "    import numpy as np\n",
    "    import numpy.random as npr\n",
    "    import sys\n",
    "    import pandas as pd\n",
    "    import tensorflow as tf\n",
    "    from tensorflow import keras\n",
    "    import matplotlib.pyplot as plt\n",
    "    %matplotlib inline\n",
    "    plt.style.use('seaborn')\n",
    "    import seaborn as sns\n",
    "    from sklearn.metrics import confusion_matrix, ConfusionMatrixDisplay\n",
    "    from sklearn.metrics import plot_confusion_matrix\n",
    "    from sklearn.metrics import classification_report\n",
    "    import cv2\n",
    "    import sklearn.metrics as metrics\n",
    "    from sklearn.model_selection import train_test_split\n",
    "    from sklearn.preprocessing import StandardScaler\n",
    "    from sklearn.decomposition import PCA\n",
    "    from sklearn.ensemble import RandomForestClassifier\n",
    "    import keras\n",
    "    from keras.models import Sequential\n",
    "    from keras.layers import Dense, Dropout, Flatten, Conv2D, MaxPool2D\n",
    "    from keras.preprocessing.image import ImageDataGenerator\n",
    "    from keras.callbacks import ReduceLROnPlateau\n",
    "    from keras.layers import Conv2D, MaxPooling2D\n",
    "    import warnings\n",
    "    warnings.filterwarnings(\"ignore\")\n",
    "    \n",
    "    \n",
    "    X_test = X_test.T\n",
    "    \n",
    "    ## Reshape:\n",
    "    X_test.shape, t_test.shape\n",
    "    from skimage.transform import resize\n",
    "    X_test_reshape = []\n",
    "\n",
    "    D = 150\n",
    "    for i in range(len(X_test)):\n",
    "        X_test_reshape.append(resize((X_test[i].reshape(300,300,3)),(D,D,3)))\n",
    "    X_test_reshape = np.asanyarray(X_test_reshape)\n",
    "    del X_test\n",
    "    \n",
    "\n",
    "    x= X_test_reshape\n",
    "    t= t_test\n",
    "## Load Model:\n",
    "    model_load = keras.models.load_model(\"ECE_saved_model.md\")\n",
    "    \n",
    "    score= model_load.evaluate(x, t)\n",
    "    print('The error is: %.2f%%'%(100-score[1]*100))\n",
    "    \n",
    "    ev = model_load.evaluate(x, t)\n",
    "    print('validation loss:', ev[0])\n",
    "    print('validation accuracy:', ev[1])\n",
    "    \n",
    "    \n",
    "    predictions = model_load.predict(x)\n",
    "    classes = np.argmax(predictions,axis = 1)\n",
    "    \n",
    "    \n",
    "    # Classification report:\n",
    "    print(classification_report(t,classes))\n",
    "     \n",
    "    # confusion matrix: \n",
    "    cm = confusion_matrix(t,classes)\n",
    "    print(cm)\n",
    "    \n",
    "    plt.figure(figsize = (15,9))\n",
    "    con_mtx = pd.DataFrame(data = cm)\n",
    "    sns.heatmap(con_mtx, fmt = 'd', annot = True)\n",
    "    plt.show()"
   ]
  },
  {
   "cell_type": "code",
   "execution_count": 2,
   "id": "f6f2ae77-e108-458f-931a-6883b2ec12c6",
   "metadata": {},
   "outputs": [
    {
     "name": "stderr",
     "output_type": "stream",
     "text": [
      "2023-04-25 23:27:43.623270: I tensorflow/core/platform/cpu_feature_guard.cc:151] This TensorFlow binary is optimized with oneAPI Deep Neural Network Library (oneDNN) to use the following CPU instructions in performance-critical operations:  SSE4.1 SSE4.2 AVX AVX2 FMA\n",
      "To enable them in other operations, rebuild TensorFlow with the appropriate compiler flags.\n",
      "2023-04-25 23:27:44.074997: I tensorflow/core/common_runtime/gpu/gpu_device.cc:1525] Created device /job:localhost/replica:0/task:0/device:GPU:0 with 79111 MB memory:  -> device: 0, name: NVIDIA A100-SXM4-80GB, pci bus id: 0000:07:00.0, compute capability: 8.0\n",
      "2023-04-25 23:27:52.380503: I tensorflow/stream_executor/cuda/cuda_dnn.cc:366] Loaded cuDNN version 8201\n",
      "2023-04-25 23:27:53.399332: W tensorflow/stream_executor/gpu/asm_compiler.cc:80] Couldn't get ptxas version string: INTERNAL: Running ptxas --version returned 32512\n",
      "2023-04-25 23:27:53.569422: W tensorflow/stream_executor/gpu/redzone_allocator.cc:314] INTERNAL: ptxas exited with non-zero error code 32512, output: \n",
      "Relying on driver to perform ptx compilation. \n",
      "Modify $PATH to customize ptxas location.\n",
      "This message will be only logged once.\n"
     ]
    },
    {
     "name": "stdout",
     "output_type": "stream",
     "text": [
      " 15/117 [==>...........................] - ETA: 1s - loss: 0.2715 - accuracy: 0.9542"
     ]
    },
    {
     "name": "stderr",
     "output_type": "stream",
     "text": [
      "2023-04-25 23:27:54.645050: I tensorflow/stream_executor/cuda/cuda_blas.cc:1774] TensorFloat-32 will be used for the matrix multiplication. This will only be logged once.\n"
     ]
    },
    {
     "name": "stdout",
     "output_type": "stream",
     "text": [
      "117/117 [==============================] - 5s 14ms/step - loss: 0.3618 - accuracy: 0.9448\n",
      "The error is: 5.52%\n",
      "117/117 [==============================] - 1s 12ms/step - loss: 0.3618 - accuracy: 0.9448\n",
      "validation loss: 0.3618164360523224\n",
      "validation accuracy: 0.9448480010032654\n",
      "              precision    recall  f1-score   support\n",
      "\n",
      "         0.0       0.93      0.96      0.94       376\n",
      "         1.0       0.93      0.90      0.92       372\n",
      "         2.0       0.96      0.96      0.96       372\n",
      "         3.0       0.96      0.94      0.95       371\n",
      "         4.0       0.93      0.97      0.95       372\n",
      "         5.0       0.96      0.96      0.96       374\n",
      "         6.0       0.95      0.94      0.94       365\n",
      "         7.0       0.94      0.95      0.94       366\n",
      "         8.0       0.96      0.96      0.96       373\n",
      "         9.0       0.92      0.93      0.92       376\n",
      "\n",
      "    accuracy                           0.94      3717\n",
      "   macro avg       0.95      0.94      0.94      3717\n",
      "weighted avg       0.94      0.94      0.94      3717\n",
      "\n",
      "[[360   8   0   2   1   1   1   1   2   0]\n",
      " [ 12 335   1   1   5   3   3   3   6   3]\n",
      " [  2   4 357   4   0   1   1   0   1   2]\n",
      " [  3   2   3 348   5   1   4   3   1   1]\n",
      " [  0   2   1   1 359   1   1   0   2   5]\n",
      " [  1   2   1   0   3 359   1   3   1   3]\n",
      " [  4   1   2   0   2   1 342   2   1  10]\n",
      " [  2   1   2   2   3   1   3 346   0   6]\n",
      " [  0   2   2   1   2   1   1   5 358   1]\n",
      " [  3   3   2   2   4   6   3   4   1 348]]\n"
     ]
    },
    {
     "data": {
      "image/png": "[encoded data removed]",
      "text/plain": [
       "<Figure size 1080x648 with 2 Axes>"
      ]
     },
     "metadata": {},
     "output_type": "display_data"
    }
   ],
   "source": [
    "import numpy as np\n",
    "\n",
    "X_t = np.load('--------YOUR-X-TEST-----.npy')\n",
    "t_t = np.load('--------YOUR-LABLES------.npy')\n",
    "\n",
    "test (X_t, t_t, D = 150)"
   ]
  },
  {
   "cell_type": "code",
   "execution_count": null,
   "id": "ea061a23-d94e-45d9-8295-e59da5252ef7",
   "metadata": {},
   "outputs": [],
   "source": []
  }
 ],
 "metadata": {
  "kernelspec": {
   "display_name": "Tensorflow-2.7.0",
   "language": "python",
   "name": "tensorflow-2.7.0"
  },
  "language_info": {
   "codemirror_mode": {
    "name": "ipython",
    "version": 3
   },
   "file_extension": ".py",
   "mimetype": "text/x-python",
   "name": "python",
   "nbconvert_exporter": "python",
   "pygments_lexer": "ipython3",
   "version": "3.9.12"
  }
 },
 "nbformat": 4,
 "nbformat_minor": 5
}
